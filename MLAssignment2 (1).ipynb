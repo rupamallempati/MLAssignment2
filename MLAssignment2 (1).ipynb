{
 "cells": [
  {
   "cell_type": "code",
   "execution_count": 6,
   "id": "59d52242",
   "metadata": {
    "scrolled": false
   },
   "outputs": [
    {
     "name": "stdout",
     "output_type": "stream",
     "text": [
      "\n",
      "\n",
      "* \n",
      "\n",
      "* * \n",
      "\n",
      "* * * \n",
      "\n",
      "* * * * \n",
      "\n",
      "* * * * * \n",
      "\n",
      "* * * * \n",
      "\n",
      "* * * \n",
      "\n",
      "* * \n",
      "\n",
      "* \n",
      "\n",
      "\n",
      "\n"
     ]
    }
   ],
   "source": [
    "#star pattern using the for loop\n",
    "for i in range(0,6):\n",
    "    for j in range(0,i):\n",
    "        print(\"*\",end=\" \")\n",
    "    print(\"\\n\")\n",
    "for k in range(4,-1,-1):\n",
    "    for l in range(0,k):\n",
    "        print(\"*\",end=\" \")\n",
    "    print(\"\\n\")\n"
   ]
  },
  {
   "cell_type": "code",
   "execution_count": 7,
   "id": "f198e1cb",
   "metadata": {},
   "outputs": [
    {
     "name": "stdout",
     "output_type": "stream",
     "text": [
      "20\n",
      "40\n",
      "60\n",
      "80\n",
      "100\n"
     ]
    }
   ],
   "source": [
    "#Use looping to output the elements from a provided list present at odd indexes.\n",
    "my_list = [10, 20, 30, 40, 50, 60, 70, 80, 90, 100]\n",
    "for i in range(len(my_list)):\n",
    "    if((i%2)!=0):\n",
    "        print(my_list[i])\n"
   ]
  },
  {
   "cell_type": "code",
   "execution_count": 3,
   "id": "d5eec049",
   "metadata": {},
   "outputs": [
    {
     "name": "stdout",
     "output_type": "stream",
     "text": [
      "<class 'int'> <class 'str'> <class 'float'> "
     ]
    }
   ],
   "source": [
    "\n",
    "#Write a code that appends the type of elements from a given list.\n",
    "x = [23, \"Python\", 23.98]\n",
    "for i in x:\n",
    "    print(type(i),end=\" \")\n"
   ]
  },
  {
   "cell_type": "code",
   "execution_count": 10,
   "id": "0fd3a385",
   "metadata": {},
   "outputs": [
    {
     "name": "stdout",
     "output_type": "stream",
     "text": [
      "[1, 2, 3, 4, 5]\n"
     ]
    }
   ],
   "source": [
    "#@sample list\n",
    "list=[1,2,3,3,3,3,4,5]\n",
    "\n",
    "new_list=[]\n",
    "for i in list:\n",
    "    if i not in new_list:\n",
    "        new_list.append(i)\n",
    "\n",
    "print(new_list)\n",
    "\n"
   ]
  },
  {
   "cell_type": "code",
   "execution_count": 11,
   "id": "24111683",
   "metadata": {},
   "outputs": [
    {
     "name": "stdout",
     "output_type": "stream",
     "text": [
      "No. of Upper-case characters:  3\n",
      "No. of Upper-case characters:  12\n"
     ]
    }
   ],
   "source": [
    "#Write a function that accepts a string and calculate the number of upper-case letters and lower-case letters.\n",
    "string='The quick Brow Fox'\n",
    "upperCase=0;\n",
    "lowerCase=0;\n",
    "for i in string:\n",
    "    if(ord(i)>=65 and ord(i)<=90):\n",
    "       upperCase=upperCase+1\n",
    "    elif(ord(i)>=97 and ord(i)<=122):\n",
    "       lowerCase=lowerCase+1\n",
    "print(\"No. of Upper-case characters: \",upperCase)\n",
    "print(\"No. of Upper-case characters: \",lowerCase)\n",
    "\n",
    "        \n"
   ]
  },
  {
   "cell_type": "code",
   "execution_count": null,
   "id": "033e7900",
   "metadata": {},
   "outputs": [],
   "source": []
  }
 ],
 "metadata": {
  "kernelspec": {
   "display_name": "Python 3 (ipykernel)",
   "language": "python",
   "name": "python3"
  },
  "language_info": {
   "codemirror_mode": {
    "name": "ipython",
    "version": 3
   },
   "file_extension": ".py",
   "mimetype": "text/x-python",
   "name": "python",
   "nbconvert_exporter": "python",
   "pygments_lexer": "ipython3",
   "version": "3.9.13"
  }
 },
 "nbformat": 4,
 "nbformat_minor": 5
}
